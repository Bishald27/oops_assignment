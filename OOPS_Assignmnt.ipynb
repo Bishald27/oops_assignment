{
  "nbformat": 4,
  "nbformat_minor": 0,
  "metadata": {
    "colab": {
      "provenance": []
    },
    "kernelspec": {
      "name": "python3",
      "display_name": "Python 3"
    },
    "language_info": {
      "name": "python"
    }
  },
  "cells": [
    {
      "cell_type": "markdown",
      "source": [
        "# Theory Questions\n"
      ],
      "metadata": {
        "id": "2YIklUN2KOsl"
      }
    },
    {
      "cell_type": "markdown",
      "source": [
        "1.What is object oriented Programming?\n",
        "- Object-Oriented Programming (OOP) is a programming paradigm based on the concept of \"objects,\" which can contain data and code. The data is represented by fields (often known as attributes or properties), and the code is in the form of procedures (often known as methods). OOP aims to organize software design around data and objects rather than logic and functions."
      ],
      "metadata": {
        "id": "jZ-J1neEPGvV"
      }
    },
    {
      "cell_type": "markdown",
      "source": [
        "2.What is class in OOps?\n",
        "- A class in object-oriented programming (OOP) is a blueprint or a template for creating objects. It defines the structure and behavior that all objects of a certain type will have.When you create an object from a class, you are creating an instance of that class. Each instance has its own set of data (attributes), but they all share the same methods."
      ],
      "metadata": {
        "id": "b6bukn07PVJ9"
      }
    },
    {
      "cell_type": "markdown",
      "source": [
        "3.What is an object in OOP?\n",
        "- an object is a self-contained unit that bundles together data and the functions that operate on that data. This is a core concept of encapsulation and is the fundamental building block of an OOP program. Objects interact with each other by sending messages (calling methods), which allows for the creation of complex systems with a clear and modular structure."
      ],
      "metadata": {
        "id": "t3QeUoHpQF6G"
      }
    },
    {
      "cell_type": "markdown",
      "source": [
        "4.What is the difference between abstraction and encapsulation?\n",
        "- Abstraction is the process of hiding complex implementation details and showing only the essential features of an object. It focuses on the \"what\" an object does, rather than the \"how\" it does it.\n",
        "- Encapsulation is the bundling of data and the methods that operate on that data into a single unit (a class). It involves restricting direct access to some of an object's components, which is a key part of data hiding"
      ],
      "metadata": {
        "id": "tXzL01BfQSH9"
      }
    },
    {
      "cell_type": "markdown",
      "source": [
        "5.What are dunder methods in Python?\n",
        "- Python, \"dunder methods\" are special methods that have names beginning and ending with double underscores (e.g., __init__, __str__, __add__). The term \"dunder\" is a shorthand for \"double underscore.\" They are also often called \"magic methods.\"These methods are not meant to be called directly by a programmer. Instead, they are automatically invoked by the Python interpreter in response to specific operations, events, or built-in functions."
      ],
      "metadata": {
        "id": "FSTuHgShQ6Hk"
      }
    },
    {
      "cell_type": "markdown",
      "source": [
        "6.Explain the concept of inheritance in OOP?\n",
        "- Inheritance is one of the four core principles of Object-Oriented Programming (OOP). It is a mechanism that allows a new class to inherit properties and behaviors (attributes and methods) from an existing class. This creates a hierarchical relationship between classes, promoting code reuse and establishing a logical \"is-a\" relationship.\n",
        "- Parent Class (or Superclass, Base Class): The existing class from which properties and behaviors are inherited.\n",
        "\n",
        "- Child Class (or Subclass, Derived Class): The new class that inherits from the parent class."
      ],
      "metadata": {
        "id": "NZghLyOWRQPc"
      }
    },
    {
      "cell_type": "markdown",
      "source": [
        "7.  What is polymorphism in OOP?\n",
        "- Polymorphism is one of the four fundamental principles of Object-Oriented Programming (OOP). The term \"polymorphism\" comes from Greek and means \"many forms.\" In the context of OOP, it allows objects of different classes to be treated as objects of a common superclass. This means you can use a single interface (method name) to represent different underlying forms (implementations).\n"
      ],
      "metadata": {
        "id": "qCwdPzwZSFC7"
      }
    },
    {
      "cell_type": "markdown",
      "source": [
        "8.How is encapsulation achieved in Python?\n",
        "- In Python encapsulation is primarily achieved through a convention of using leading underscores and by defining property methods (getters and setters).\n",
        "- The most common way to signal that an attribute or method is intended for internal use is to prefix its name with a single leading underscore (e.g., _attribute)\n",
        "-  We use double underscore attribute, the Python interpreter automatically renames the attribute internally to _ClassName__attribute. This makes it much harder to accidentally access or overwrite the variable from outside the class. It is not truly \"private\" because you can still access it if you know the mangled name, but it's a strong deterrent.\n",
        "- The most robust and elegant way to achieve encapsulation in modern Python is by using property decorators (@property). This allows you to control access to an attribute using methods (getters, setters, and deleters) while still making it look like a simple attribute to the user of the class."
      ],
      "metadata": {
        "id": "_gs5PkmNS6ZT"
      }
    },
    {
      "cell_type": "markdown",
      "source": [
        "9. What is a constructor in Python?\n",
        "\n",
        "- a constructor is a special method used to initialize a new object of a class. Its primary purpose is to set up the initial state of the object by assigning values to its attributes."
      ],
      "metadata": {
        "id": "F7O_AEITUEbL"
      }
    },
    {
      "cell_type": "markdown",
      "source": [
        "10.What are class and static methods in Python?\n",
        "- In Python, both class and static methods are special types of methods that are defined within a class but behave differently from instance methods.\n",
        "- We define a class method using the @classmethod decorator. Class methods are used to operate on class-level attributes or to create factory methods that return an instance of the class. They can access and modify class variables but not instance variables.\n",
        "- We define a static method using the @staticmethod decorator.Static methods are used for utility functions that logically belong to the class but do not need to operate on any class or instance data. They are self-contained and don't rely on the state of the class or object."
      ],
      "metadata": {
        "id": "Q0bMM8_nUXUz"
      }
    },
    {
      "cell_type": "markdown",
      "source": [
        "11. What is method overloading in python?\n",
        "- Method overloading is a concept in some programming languages where multiple methods within the same class can have the same name but different parameters. The correct method to be executed is determined at compile-time based on the number and/or type of arguments passed to the method.Python, however, does not support method overloading in the traditional, strict sense.\n",
        "\n",
        "- If you define multiple methods with the same name in a Python class, the one that is defined last will override the previous definitions. The interpreter doesn't consider the number or type of parameters; it simply replaces the method with the latest one it finds."
      ],
      "metadata": {
        "id": "43UKmAxSVVpI"
      }
    },
    {
      "cell_type": "markdown",
      "source": [
        "12. What is method overriding in OOP?\n",
        "- Method overriding is a key concept in Object-Oriented Programming (OOP) that is closely related to inheritance and polymorphism. It allows a subclass (child class) to provide a specific implementation for a method that is already defined in its superclass (parent class). For method overriding to occur, there must be an inheritance relationship, where a subclass inherits from a superclass."
      ],
      "metadata": {
        "id": "uWJ_TgS1V1B3"
      }
    },
    {
      "cell_type": "markdown",
      "source": [
        "13. What is a property decorator in Python?\n",
        "- A property decorator in Python is a built-in decorator that provides a \"Pythonic\" way to create and manage properties in a class. It allows you to define methods that act like attributes, giving you a clean syntax for getting, setting, and deleting an attribute's value without exposing the underlying implementation.The primary purpose of @property is to enforce encapsulation and data validation while maintaining a simple and intuitive interface for the user of the class."
      ],
      "metadata": {
        "id": "r9VNZk6hWZ4a"
      }
    },
    {
      "cell_type": "markdown",
      "source": [
        "14.Why is polymorphism important in OOP?\n",
        "- Polymorphism is a cornerstone of Object-Oriented Programming (OOP) and is essential for writing flexible, reusable, and maintainable code. Its importance stems from its ability to allow a single interface to be used for different underlying implementations.\n",
        "- Polymorphism allows you to write code that can work with a variety of object types as long as they share a common superclass or interface.\n",
        "- It decouples your code from specific implementations. Your code can interact with a high-level Shape object, for example, without needing to know if it's a Circle, Square, or Triangle. This makes the code more adaptable to change.\n",
        "-Easier to Add New Features: When you want to introduce a new type of object (e.g., a Lion subclass to your Animal hierarchy), you only need to create the new class and implement its specific methods\n",
        "- Reduced Code Duplication: By using method overriding, you avoid rewriting the same logic multiple times. A parent class can define a default behavior, and subclasses only need to override it if their behavior is different."
      ],
      "metadata": {
        "id": "BZQ3yp53Wpvt"
      }
    },
    {
      "cell_type": "markdown",
      "source": [
        "15. What is an abstract class in Python?\n",
        "-  An abstract class is a blueprint for other classes. It's a class that cannot be instantiated on its own and is designed to be a base for subclasses. Abstract classes are used to define a common interface or contract that all of its subclasses must follow.\n",
        "\n",
        "The core purpose of an abstract class is to enforce a consistent structure among a family of related classes. It achieves this by defining abstract methods, which are methods that are declared but do not have an implementation. Any concrete class that inherits from the abstract class must provide its own implementation for all of the abstract methods. If it fails to do so, Python will prevent you from creating an instance of that subclass."
      ],
      "metadata": {
        "id": "q2jOUud2XWLR"
      }
    },
    {
      "cell_type": "markdown",
      "source": [
        "16.What are the advantages of OOP?\n",
        "- Object-Oriented Programming (OOP) is a dominant paradigm in modern software development for good reason. Its core principles provide a structured and intuitive way to manage the complexity of building large-scale applications. Below are the key advantages of using OOP:\n",
        "- Encapsulation: By bundling data and the methods that operate on it into a single unit (an object), OOP creates self-contained modules. This means that if something goes wrong, you know exactly where to look—within a specific object or class.\n",
        "- Clear Structure: OOP encourages a natural, hierarchical structure that mirrors real-world entities. This makes the codebase easier to read, understand, and navigate, especially for large projects with multiple developers.\n",
        "-Inheritance is a powerful mechanism for code reuse. By creating a parent class with common attributes and methods, you can build new child classes that automatically inherit this functionality.\n",
        "- Reduced Duplication: The ability to reuse classes and objects across different parts of a project, or even in entirely new projects, saves significant development time and effort.\n",
        "- Localized Changes: Due to encapsulation, changes or bug fixes can often be made within a single class without affecting the rest of the system.\n",
        "- Polymorphism: This principle allows a single interface to represent multiple different underlying forms. A method call can behave differently depending on the specific object it's called on. This makes your code highly flexible, as you can write generic functions that can operate on a variety of object types. It eliminates the need for long if-elif-else chains, leading to cleaner and more adaptable code.\n",
        "- Data Hiding: Encapsulation allows you to hide an object's internal state and expose only a controlled interface through methods. This prevents external code from directly accessing or corrupting sensitive data, ensuring data integrity and security.\n"
      ],
      "metadata": {
        "id": "PjdNGDtxXpDF"
      }
    },
    {
      "cell_type": "markdown",
      "source": [
        "17.What is the difference between a class variable and an instance variable?\n",
        "- In Python and other object-oriented languages, the primary difference between a class variable and an instance variable lies in where the variable is defined and how it is accessed and shared among objects.\n",
        "- An instance variable is defined inside a method (typically the constructor, __init__) of a class and is specific to each instance (object) of that class.\n",
        "Each object has its own unique copy of the instance variables. Changes made to an instance variable in one object do not affect the instance variables of other objects.Usage: They are used to store data that is unique to a particular instance.\n",
        "- A class variable is defined inside the class but outside of any instance method. There is only one copy of a class variable, and it is shared among all instances of the class. If an instance or the class itself modifies the class variable, the change is reflected across all other instances. They are used to store data that is common to all instances of the class"
      ],
      "metadata": {
        "id": "NBHy5T6HYtvK"
      }
    },
    {
      "cell_type": "markdown",
      "source": [
        "18. What is multiple inheritance in Python?\n",
        "- Multiple inheritance is a feature in object-oriented programming where a class can inherit attributes and methods from more than one parent class. This allows the child class to combine the functionalities of all its parent classes into a single entity.\n"
      ],
      "metadata": {
        "id": "A4dajYFhZf9b"
      }
    },
    {
      "cell_type": "markdown",
      "source": [
        "19. Explain the purpose of ‘’__str__’ and ‘__repr__’ ‘ methods in Python\n",
        "- __str__ and __repr__ are two special \"dunder\" (double underscore) methods in Python used to provide string representations of objects. While they both return strings, they serve different purposes and are aimed at different audiences.\n",
        "\n",
        "- 1__str__\n",
        "Purpose: To provide a human-readable or \"pretty\" string representation of an object.\n",
        "Audience: The end-user of the program.Behavior: It is called by the str() built-in function, print(), and format(). The goal is to produce a string that is easy to read and understand, and that a human would typically expect.\n",
        "- 2__repr__\n",
        "Purpose: To provide a string representation that is unambiguous and, ideally, could be used to recreate the object. It's meant to be a developer-friendly representation.Audience: The developer or debugger.Behavior: It is called by the repr() built-in function and is the default string representation returned by the Python interpreter when an object is evaluated. A good __repr__ implementation should be a valid Python expression.\n",
        "\n"
      ],
      "metadata": {
        "id": "Lim7zKZtaUk6"
      }
    },
    {
      "cell_type": "markdown",
      "source": [
        "20. What is the significance of the ‘super()’ function in Python?\n",
        "- The super() function is a powerful and essential built-in function in Python, primarily used in the context of inheritance. Its main purpose is to provide a way to call a method from the parent or ancestor class, especially when a method in the child class has been overridden.super() Works\n",
        "In a single inheritance hierarchy, super() simply returns a proxy object that allows you to call a method of the parent class.\n",
        "The syntax for calling a parent method is typically super().method_name()."
      ],
      "metadata": {
        "id": "t7Yq4GC_bHaI"
      }
    },
    {
      "cell_type": "markdown",
      "source": [
        "21.What is the significance of the __del__ method in Python?\n",
        "\n",
        "- The __del__ method, often referred to as the \"destructor,\" is a special dunder method in Python. Its significance lies in its role as a cleanup mechanism, though it is used much less frequently and with more caution than the __init__ constructor.\n",
        "- The __del__ method is called by the Python garbage collector when an object is about to be destroyed. Its purpose is to define any final cleanup actions that should be performed before the object's memory is reclaimed.The most common and valid use case for __del__ is to release external resources that the object has acquired."
      ],
      "metadata": {
        "id": "SehMPQMibfgn"
      }
    },
    {
      "cell_type": "markdown",
      "source": [
        "22.What is the difference between @staticmethod and @classmethod in Python?\n",
        "- @staticmethod (Static Method)\n",
        "Implicit Arguments: A static method does not receive any special first argument like self or cls. It's essentially a regular function that happens to be defined within the class's namespace.Purpose: Static methods are used for utility functions that are logically related to the class but do not need to access the class's or the instance's state. They are completely independent of the class's data.\n",
        " - No access to instance (self) or class (cls) state.\n",
        "  -Completely independent of the class and its instances.\n",
        "  -Can be called on both the class and its instances.\n",
        "\n",
        "- @classmethod (Class Method)\n",
        "Implicit Arguments: A class method receives the class itself as its first argument, conventionally named cls. This argument is automatically passed by the Python interpreter.\n",
        "Purpose: Class methods are used to operate on class-level attributes or to create factory methods that return an instance of the class. They have access to the class but not to the individual instance.\n",
        " - Access to class state (cls), but not instance state (self).\n",
        "  - Bound to the class and can access its attributes.\n",
        "  - Can be called on both the class and its instances."
      ],
      "metadata": {
        "id": "LcCNI-PFbzbI"
      }
    },
    {
      "cell_type": "markdown",
      "source": [
        "23. How does polymorphism work in Python with inheritance?\n",
        "- Polymorphism in Python, when combined with inheritance, allows objects of different classes to be treated as objects of a common superclass. The term \"polymorphism\" means \"many forms,\" and in this context, it enables a single method call to behave differently based on the specific object it's called on.\n",
        "\n",
        "- The mechanism that makes this work is method overriding.\n",
        " - A Common Base Class: You start with a base or superclass that defines a method with a specific name. This method provides a default or generic implementation.\n",
        "\n",
        "  - Inheritance: You then create one or more subclasses that inherit from this base class.\n",
        "\n",
        "  - Overriding: Each subclass provides its own specific implementation for the method with the same name. This new implementation \"overrides\" the parent's implementation for objects of that subclass.\n",
        "\n",
        "  - Runtime Dispatch: When you call this method on an object, Python's interpreter looks at the object's actual type at runtime and automatically dispatches the call to the correct, specific implementation.\n",
        "\n"
      ],
      "metadata": {
        "id": "nn5SKBGsdNia"
      }
    },
    {
      "cell_type": "markdown",
      "source": [
        "24.What is method chaining in Python OOP?\n",
        "\n",
        " - Method chaining is a programming technique in Object-Oriented Programming (OOP) where multiple method calls are strung together on a single line of code. This is possible when each method in the chain returns a reference to the same object, allowing the next method to be called immediately on the result.\n",
        "\n",
        "- The core principle behind method chaining is that each method call performs an action and then returns self (the instance of the object itself), so a subsequent method can be called on that returned object.\n",
        "- To enable method chaining, the methods in your class must be designed to return the object instance (self).\n",
        "\n",
        "\n"
      ],
      "metadata": {
        "id": "tPCVru7AdsjP"
      }
    },
    {
      "cell_type": "markdown",
      "source": [
        "25.What is the purpose of the __call__ method in Python?\n",
        "- The __call__ method is a special \"dunder\" method in Python that allows an instance of a class to be called like a function. When you define __call__ in a class, you are essentially making its objects \"callable.\"\n",
        "\n",
        "- The Core Purpose: Making Objects Callable\n",
        "Normally, you can call functions and methods using the parenthesis () operator. When you use this on an object (e.g., my_object()), Python looks for and executes the object's __call__ method.\n",
        "\n",
        " - The primary use of __call__ is to create objects that have state (data and other methods) but whose main behavior is defined by a single, callable action."
      ],
      "metadata": {
        "id": "I2oEtjmyeM4z"
      }
    },
    {
      "cell_type": "markdown",
      "source": [
        "#Practical Questions\n",
        "\n"
      ],
      "metadata": {
        "id": "NuWEsAtTe10w"
      }
    },
    {
      "cell_type": "code",
      "source": [
        "#1.1. Create a parent class Animal with a method speak() that prints a generic message. Create a child class Dog that overrides the speak() method to print \"Bark!\"\n",
        "class Animal:\n",
        "    def speak(self):\n",
        "        print(\"Generic animal sound\")\n",
        "\n",
        "class Dog(Animal):\n",
        "    def speak(self):\n",
        "        print(\"Bark!\")\n",
        "generic_animal = Animal()\n",
        "print(\"Calling speak() on the generic Animal object:\")\n",
        "generic_animal.speak()\n",
        "print(\"-\" * 20)\n",
        "my_dog = Dog()\n",
        "print(\"Calling speak() on the Dog object:\")\n",
        "my_dog.speak()\n"
      ],
      "metadata": {
        "colab": {
          "base_uri": "https://localhost:8080/"
        },
        "id": "_pZ2XYI2e73-",
        "outputId": "592f4f7f-c413-4f27-e2f4-25467ffa78a7"
      },
      "execution_count": null,
      "outputs": [
        {
          "output_type": "stream",
          "name": "stdout",
          "text": [
            "Calling speak() on the generic Animal object:\n",
            "Generic animal sound\n",
            "--------------------\n",
            "Calling speak() on the Dog object:\n",
            "Bark!\n"
          ]
        }
      ]
    },
    {
      "cell_type": "code",
      "source": [
        "#2. Write a program to create an abstract class Shape with a method area(). Derive classes Circle and Rectangle from it and implement the area() method in both.\n",
        "from abc import ABC,abstractmethod\n",
        "\n",
        "class Shape(ABC):\n",
        "    @abstractmethod\n",
        "    def area(self):\n",
        "        pass\n",
        "\n",
        "class Circle(Shape):\n",
        "    def area(self):\n",
        "        return \"This is Circle class\"\n",
        "\n",
        "class Rectangle(Shape):\n",
        "    def area(self):\n",
        "        return \"This is Rectangle class\"\n",
        "c = Circle()\n",
        "r = Rectangle()\n",
        "\n",
        "print(c.area())\n",
        "print(r.area())"
      ],
      "metadata": {
        "colab": {
          "base_uri": "https://localhost:8080/"
        },
        "id": "rOVZlDjs1jqh",
        "outputId": "826f8e05-d6d1-42cf-9bf9-0bd004f47a50"
      },
      "execution_count": null,
      "outputs": [
        {
          "output_type": "stream",
          "name": "stdout",
          "text": [
            "This is Circle class\n",
            "This is Rectangle class\n"
          ]
        }
      ]
    },
    {
      "cell_type": "code",
      "source": [
        "#3. Implement a multi-level inheritance scenario where a class Vehicle has an attribute type. Derive a class Car and further derive a class ElectricCar that adds a battery attribute.\n",
        "class Vehicle:\n",
        "    def __init__(self,vehicle_type):\n",
        "        self.type = vehicle_type\n",
        "    def Vehicle_info(self):\n",
        "        return f\"This is {self.type} companies Vehicle\"\n",
        "\n",
        "class Car(Vehicle):\n",
        "    def Car_info(self):\n",
        "        return \"This is Car info\"\n",
        "\n",
        "class ElectricCar(Car):\n",
        "    def __init__(self, vehicle_type, battery):\n",
        "        super().__init__(vehicle_type)\n",
        "        self.battery = battery\n",
        "    def ElectricCar_info(self):\n",
        "        return f\"This has {self.battery} battery\"\n",
        "\n",
        "vehicle1 = Vehicle(\"BMW\")\n",
        "car1 = Car(\"BMW\")\n",
        "e_car1 = ElectricCar(\"BMW\",\"Lithium\")\n"
      ],
      "metadata": {
        "id": "AHaJpHni12pl"
      },
      "execution_count": null,
      "outputs": []
    },
    {
      "cell_type": "code",
      "source": [
        "e_car1.Vehicle_info()\n"
      ],
      "metadata": {
        "colab": {
          "base_uri": "https://localhost:8080/",
          "height": 36
        },
        "id": "p451WyWk3hOO",
        "outputId": "0536fdcc-eea5-481e-dc29-93357bddadb7"
      },
      "execution_count": null,
      "outputs": [
        {
          "output_type": "execute_result",
          "data": {
            "text/plain": [
              "'This is BMW companies Vehicle'"
            ],
            "application/vnd.google.colaboratory.intrinsic+json": {
              "type": "string"
            }
          },
          "metadata": {},
          "execution_count": 14
        }
      ]
    },
    {
      "cell_type": "code",
      "source": [
        "e_car1.ElectricCar_info()"
      ],
      "metadata": {
        "colab": {
          "base_uri": "https://localhost:8080/",
          "height": 36
        },
        "id": "oxpH08i13tQQ",
        "outputId": "c1e9994e-e94e-4983-9267-33cbbc562a2e"
      },
      "execution_count": null,
      "outputs": [
        {
          "output_type": "execute_result",
          "data": {
            "text/plain": [
              "'This has Lithium battery'"
            ],
            "application/vnd.google.colaboratory.intrinsic+json": {
              "type": "string"
            }
          },
          "metadata": {},
          "execution_count": 16
        }
      ]
    },
    {
      "cell_type": "code",
      "source": [
        "#4. Demonstrate polymorphism by creating a base class Bird with a method fly(). Create two derived classes Sparrow and Penguin that override the fly() method.\n",
        "class Bird:\n",
        "    def fly(self):\n",
        "        return \"Bird can fly\"\n",
        "\n",
        "class Sparrow(Bird):\n",
        "    def fly(self):\n",
        "        return \"Sparrow is a Bird, sparrow can also fly\"\n",
        "\n",
        "class Penguin(Bird):\n",
        "    def fly(self):\n",
        "        return \"Penguin is also a Bird, But Penguin can not fly\"\n",
        "\n",
        "def bird_type(bird):\n",
        "    return bird.fly()\n",
        "\n",
        "s = Sparrow()\n",
        "p = Penguin()\n",
        "\n",
        "\n",
        "print(bird_type(p))\n",
        "print(bird_type(s))\n"
      ],
      "metadata": {
        "colab": {
          "base_uri": "https://localhost:8080/"
        },
        "id": "olOMx5n95nsY",
        "outputId": "b904eccf-7722-41c3-d822-c0d426139e04"
      },
      "execution_count": null,
      "outputs": [
        {
          "output_type": "stream",
          "name": "stdout",
          "text": [
            "Penguin is also a Bird, But Penguin can not fly\n",
            "Sparrow is a Bird, sparrow can also fly\n"
          ]
        }
      ]
    },
    {
      "cell_type": "code",
      "source": [
        "#5.Write a program to demonstrate encapsulation by creating a class BankAccount with private attributes balance and methods to deposit, withdraw, and check balance.\n",
        "class Bank_account:\n",
        "\n",
        "    def __init__(self,balance=5000):\n",
        "        self.__balance = balance\n",
        "\n",
        "    def deposit(self, amount):\n",
        "        if amount > 0:\n",
        "            self.__balance = self.__balance + amount\n",
        "\n",
        "    def withdraw(self,amount):\n",
        "        if amount > 0:\n",
        "            self.__balance = self.__balance - amount\n",
        "\n",
        "    def check_balance(self):\n",
        "        return self.__balance\n",
        "\n",
        "acc1 = Bank_account()\n",
        "acc1.deposit(1000)\n",
        "print(\"Current Balance : \", acc1.check_balance())"
      ],
      "metadata": {
        "colab": {
          "base_uri": "https://localhost:8080/"
        },
        "id": "-iknOCMh5vOa",
        "outputId": "001153cb-4b92-4223-ad87-6370b1164492"
      },
      "execution_count": null,
      "outputs": [
        {
          "output_type": "stream",
          "name": "stdout",
          "text": [
            "Current Balance :  6000\n"
          ]
        }
      ]
    },
    {
      "cell_type": "code",
      "source": [
        "acc1.withdraw(1500)\n",
        "print(\"Current Balance : \", acc1.check_balance())"
      ],
      "metadata": {
        "colab": {
          "base_uri": "https://localhost:8080/"
        },
        "id": "4C7z_WDj6UrC",
        "outputId": "f657d33c-855a-466d-9c6b-86f18ecd8337"
      },
      "execution_count": null,
      "outputs": [
        {
          "output_type": "stream",
          "name": "stdout",
          "text": [
            "Current Balance :  4000\n"
          ]
        }
      ]
    },
    {
      "cell_type": "code",
      "source": [
        "#6.Demonstrate runtime polymorphism using a method play() in a base class Instrument. Derive classes Guitar and Piano that implement their own version of play().\n",
        "class Instrument:\n",
        "    def play(self):\n",
        "        return \"Instruments are playing\"\n",
        "\n",
        "class Guitar(Instrument):\n",
        "    def play(self):\n",
        "        return \"Guitar is Strumming\"\n",
        "\n",
        "class Piano(Instrument):\n",
        "    def play(self):\n",
        "        return \"Piano is being played beautifully \"\n",
        "\n",
        "def start_playing(instrument):\n",
        "    return instrument.play()\n",
        "\n",
        "g = Guitar()\n",
        "p = Piano()\n",
        "\n",
        "print(start_playing(g))\n",
        "print(start_playing(p))"
      ],
      "metadata": {
        "colab": {
          "base_uri": "https://localhost:8080/"
        },
        "id": "ZuGApCf_6Xg4",
        "outputId": "a22895b6-c8c6-44d5-d0ac-2815eb0aad25"
      },
      "execution_count": null,
      "outputs": [
        {
          "output_type": "stream",
          "name": "stdout",
          "text": [
            "Guitar is Strumming\n",
            "Piano is being played beautifully \n"
          ]
        }
      ]
    },
    {
      "cell_type": "code",
      "source": [
        "#7.Create a class MathOperations with a class method add_numbers() to add two numbers and a static method subtract_numbers() to subtract two numbers.\n",
        "class MathOperations:\n",
        "    @classmethod\n",
        "    def add_numbers(cls,a,b):\n",
        "        return a+b\n",
        "\n",
        "    @staticmethod\n",
        "    def subtract_numbers(a,b):\n",
        "        return a-b\n",
        "\n",
        "print(\"Addition\",MathOperations.add_numbers(100,5))\n",
        "print(\"Subtract\",MathOperations.subtract_numbers(109,5))\n"
      ],
      "metadata": {
        "colab": {
          "base_uri": "https://localhost:8080/"
        },
        "id": "pP4MNXF-6qqQ",
        "outputId": "3771cbaf-768e-4973-a56b-77c3d495f2c6"
      },
      "execution_count": null,
      "outputs": [
        {
          "output_type": "stream",
          "name": "stdout",
          "text": [
            "Addition 105\n",
            "Subtract 104\n"
          ]
        }
      ]
    },
    {
      "cell_type": "code",
      "source": [
        "#8.Implement a class Person with a class method to count the total number of persons created.\n",
        "class Person:\n",
        "    count = 0\n",
        "\n",
        "    def __init__(self,name):\n",
        "        self.name = name\n",
        "        Person.count += 1\n",
        "\n",
        "    @classmethod\n",
        "    def total_person(cls):\n",
        "        return cls.count\n",
        "\n",
        "p1 = Person(\"Bishal\")\n",
        "p2 = Person(\"Pratiksha\")\n",
        "\n",
        "print(Person.total_person())"
      ],
      "metadata": {
        "colab": {
          "base_uri": "https://localhost:8080/"
        },
        "id": "Wz1qPMTf61AO",
        "outputId": "02aa2248-1716-462c-990c-7b080bd0557b"
      },
      "execution_count": null,
      "outputs": [
        {
          "output_type": "stream",
          "name": "stdout",
          "text": [
            "2\n"
          ]
        }
      ]
    },
    {
      "cell_type": "code",
      "source": [
        "#9.Write a class Fraction with attributes numerator and denominator. Override the str method to display the fraction as \"numerator/denominator\".\n",
        "class Fraction:\n",
        "    def __init__(self,numerator,denominator):\n",
        "        self.numerator = numerator\n",
        "        self.denominator = denominator\n",
        "\n",
        "    def __str__(self):\n",
        "        return f\"{self.numerator}/{self.denominator}\"\n",
        "\n",
        "f1 = Fraction(13,43)\n",
        "print(f1)"
      ],
      "metadata": {
        "colab": {
          "base_uri": "https://localhost:8080/"
        },
        "id": "neqYSWbV7BTD",
        "outputId": "1cbed3ba-33e9-4678-f224-e6a8144aeaae"
      },
      "execution_count": null,
      "outputs": [
        {
          "output_type": "stream",
          "name": "stdout",
          "text": [
            "13/43\n"
          ]
        }
      ]
    },
    {
      "cell_type": "code",
      "source": [
        "#10. Demonstrate operator overloading by creating a class Vector and overriding the add method to add two vectors.\n",
        "class Vector:\n",
        "    def __init__(self,x,y):\n",
        "        self.x = x\n",
        "        self.y = y\n",
        "    def __add__(self,other):\n",
        "        return Vector(self.x+other.x,self.y+other.y)\n",
        "    def __str__(self):\n",
        "        return f\"({self.x},{self.y})\"\n",
        "\n",
        "v1 = Vector(31,4)\n",
        "v2 = Vector(5,62)\n",
        "v3 = v1+v2\n",
        "print(v3)"
      ],
      "metadata": {
        "colab": {
          "base_uri": "https://localhost:8080/"
        },
        "id": "c0FiUMl27KHs",
        "outputId": "b5779863-0426-429a-cf28-f5925bc990ee"
      },
      "execution_count": null,
      "outputs": [
        {
          "output_type": "stream",
          "name": "stdout",
          "text": [
            "(36,66)\n"
          ]
        }
      ]
    },
    {
      "cell_type": "code",
      "source": [
        "#11. Create a class Person with attributes name and age. Add a method greet() that prints \"Hello, my name is {name} and I am {age} years old.\"\n",
        "class Person:\n",
        "    def __init__(self,name,age):\n",
        "        self.name = name\n",
        "        self.age = age\n",
        "    def greet(self):\n",
        "        return  f\"Hello, my name is {self.name} and I am {self.age} years old\"\n",
        "\n",
        "p1 = Person(\"Bishal\",28)\n",
        "print(p1.greet())"
      ],
      "metadata": {
        "colab": {
          "base_uri": "https://localhost:8080/"
        },
        "id": "Wlirkj7n78Cm",
        "outputId": "03c37740-f8cf-4928-a826-9ba8da66346a"
      },
      "execution_count": null,
      "outputs": [
        {
          "output_type": "stream",
          "name": "stdout",
          "text": [
            "Hello, my name is Bishal and I am 28 years old\n"
          ]
        }
      ]
    },
    {
      "cell_type": "code",
      "source": [
        "#12.Implement a class Student with attributes name and grades. Create a method average_grade() to compute the average of the grades.\n",
        "class Student:\n",
        "    def __init__(self,name,grades):\n",
        "        self.name = name\n",
        "        self.grades = grades\n",
        "\n",
        "    def average_grade(self):\n",
        "        if len(self.grades) ==0:\n",
        "            return 0\n",
        "        return sum(self.grades)/len(self.grades)\n",
        "\n",
        "s1 =Student(\"Bishal\",[98,92,93])\n",
        "print(f\"{s1.name}'s average grade is {s1.average_grade():.2f}\")"
      ],
      "metadata": {
        "colab": {
          "base_uri": "https://localhost:8080/"
        },
        "id": "eZkv5y-g8JgF",
        "outputId": "ef49930e-7a2e-4bd6-970c-27a0f30799b1"
      },
      "execution_count": null,
      "outputs": [
        {
          "output_type": "stream",
          "name": "stdout",
          "text": [
            "Bishal's average grade is 94.33\n"
          ]
        }
      ]
    },
    {
      "cell_type": "code",
      "source": [
        "#13. Create a class Rectangle with methods set_dimensions() to set the dimensions and area() to calculate the area.\n",
        "class Rectangle:\n",
        "    def __init__(self):\n",
        "        self.length = 0\n",
        "        self.width = 0\n",
        "    def set_dimension(self,length,width):\n",
        "        self.length = length\n",
        "        self.width = width\n",
        "    def area(self):\n",
        "        return self.length*self.width\n",
        "\n",
        "rect = Rectangle()\n",
        "rect.set_dimension(57,94)\n",
        "\n",
        "print(f\"The area of the Rectangle : {rect.area()}\")"
      ],
      "metadata": {
        "colab": {
          "base_uri": "https://localhost:8080/"
        },
        "id": "VZ6gR14H8v87",
        "outputId": "ed776532-d363-4f91-9219-a2886a837b85"
      },
      "execution_count": null,
      "outputs": [
        {
          "output_type": "stream",
          "name": "stdout",
          "text": [
            "The area of the Rectangle : 5358\n"
          ]
        }
      ]
    },
    {
      "cell_type": "code",
      "source": [
        "#14. Create a class Employee with a method calculate_salary() that computes the salary based on hours worked and hourly rate. Create a derived class Manager that adds a bonus to the salary.\n",
        "class Employee:\n",
        "    def __init__(self,name,hours_worked,hourly_rate):\n",
        "        self.name = name\n",
        "        self.hours_worked = hours_worked\n",
        "        self.hourly_rate = hourly_rate\n",
        "    def calculate_salary(self):\n",
        "        return self.hours_worked * self.hourly_rate\n",
        "\n",
        "class Manager(Employee):\n",
        "    def __init__(self,name,hours_worked,hourly_rate,bonus):\n",
        "        super().__init__(name,hours_worked,hourly_rate)\n",
        "        self.bonus = bonus\n",
        "    def calculate_salary(self):\n",
        "        salary = super().calculate_salary()\n",
        "        return salary + self.bonus\n",
        "employee = Employee(\"Bishal\",50,200)\n",
        "manager = Manager(\"Rahul\",20,300,200)\n",
        "\n",
        "\n",
        "print(f\"{employee.name}'s salary: ${employee.calculate_salary()}\")\n",
        "print(f\"{manager.name}'s salary: ${manager.calculate_salary()}\")"
      ],
      "metadata": {
        "colab": {
          "base_uri": "https://localhost:8080/"
        },
        "id": "_GrKWxXp9Z-W",
        "outputId": "9f255a12-b794-4081-9ba8-0cf493a87f9c"
      },
      "execution_count": null,
      "outputs": [
        {
          "output_type": "stream",
          "name": "stdout",
          "text": [
            "Bishal's salary: $10000\n",
            "Rahul's salary: $6200\n"
          ]
        }
      ]
    },
    {
      "cell_type": "code",
      "source": [
        "#15. Create a class Product with attributes name, price, and quantity. Implement a method total_price() that calculates the total price of the product.\n",
        "class Product:\n",
        "    def __init__(self,name,price,quantity):\n",
        "        self.name = name\n",
        "        self.price = price\n",
        "        self.quantity = quantity\n",
        "    def total_price(self):\n",
        "        return self.price * self.quantity\n",
        "p1 = Product(\"Tea\",250,70)\n",
        "\n",
        "print(f\"The rate of '{p1.name}' is '{p1.price}' so total quantity of '{p1.name}' you buying is '{p1.quantity}' and total amount is '{p1.total_price()}'\")\n"
      ],
      "metadata": {
        "colab": {
          "base_uri": "https://localhost:8080/"
        },
        "id": "gcu-wxXm93bu",
        "outputId": "1691160d-c491-4e33-b0d4-5a8e93aaee2e"
      },
      "execution_count": null,
      "outputs": [
        {
          "output_type": "stream",
          "name": "stdout",
          "text": [
            "The rate of 'Tea' is '250' so total quantity of 'Tea' you buying is '70' and total amount is '17500'\n"
          ]
        }
      ]
    },
    {
      "cell_type": "code",
      "source": [
        "#16. Create a class Animal with an abstract method sound(). Create two derived classes Cow and Sheep that implement the sound() method.\n",
        "from abc import ABC,abstractmethod\n",
        "class Animal(ABC):\n",
        "    @abstractmethod\n",
        "    def sound(self):\n",
        "        pass\n",
        "\n",
        "class Cow(Animal):\n",
        "    def sound(self):\n",
        "        return \"Cow has sound Mooohhh!\"\n",
        "\n",
        "class Sheep(Animal):\n",
        "    def sound(self):\n",
        "        return \"Sheep sound is BeehhhBeehehehe !\"\n",
        "\n",
        "cow = Cow()\n",
        "sheep = Sheep()\n",
        "\n",
        "print(cow.sound())\n",
        "print(sheep.sound())"
      ],
      "metadata": {
        "colab": {
          "base_uri": "https://localhost:8080/"
        },
        "id": "66DjpadX-b81",
        "outputId": "95bbdee0-f183-449e-cad7-b06bd4824505"
      },
      "execution_count": null,
      "outputs": [
        {
          "output_type": "stream",
          "name": "stdout",
          "text": [
            "Cow has sound Mooohhh!\n",
            "Sheep sound is BeehhhBeehehehe !\n"
          ]
        }
      ]
    },
    {
      "cell_type": "code",
      "source": [
        "#17.Create a class Book with attributes title, author, and year_published. Add a method get_book_info() that returns a formatted string with the book's details.\n",
        "class Book:\n",
        "    def __init__(self,title,author,year_published):\n",
        "        self.title = title\n",
        "        self.author = author\n",
        "        self.year_published = year_published\n",
        "    def get_book_info(self):\n",
        "        return f\"{self.title} by {self.author} publish in {self.year_published}\"\n",
        "\n",
        "b1 = Book(\"The Intelligent Investor\", \" Benjamin Graham\", 1973)\n",
        "\n",
        "print(b1.get_book_info())"
      ],
      "metadata": {
        "colab": {
          "base_uri": "https://localhost:8080/"
        },
        "id": "y7p3Hxhs-zhE",
        "outputId": "f1e08b29-f2a3-43e8-d093-1f1947560fe3"
      },
      "execution_count": null,
      "outputs": [
        {
          "output_type": "stream",
          "name": "stdout",
          "text": [
            "The Intelligent Investor by  Benjamin Graham publish in 1973\n"
          ]
        }
      ]
    },
    {
      "cell_type": "code",
      "source": [
        "#18. Create a class House with attributes address and price. Create a derived class Mansion that adds an attribute number_of_rooms.\n",
        "class House:\n",
        "    def __init__(self,address,price):\n",
        "        self.address = address\n",
        "        self.price = price\n",
        "class Mansion(House):\n",
        "    def __init__(self,address,price,number_of_rooms):\n",
        "        super().__init__(address,price)\n",
        "        self.number_of_rooms = number_of_rooms\n",
        "\n",
        "house1 = House(\"Vivekananda Road\", 2500000)\n",
        "mansion1 = Mansion(\"House No.48\", 5000000, 35)\n",
        "\n",
        "print(f\"House: {house1.address}, ${house1.price}\")\n",
        "print(f\"Mansion: {mansion1.address}, ${mansion1.price}, Rooms: {mansion1.number_of_rooms}\")\n"
      ],
      "metadata": {
        "colab": {
          "base_uri": "https://localhost:8080/"
        },
        "id": "LBT6KDIy_Pep",
        "outputId": "14fd385b-3e8a-4b93-f602-4c39e4ad75f9"
      },
      "execution_count": null,
      "outputs": [
        {
          "output_type": "stream",
          "name": "stdout",
          "text": [
            "House: Vivekananda Road, $2500000\n",
            "Mansion: House No.48, $5000000, Rooms: 35\n"
          ]
        }
      ]
    }
  ]
}